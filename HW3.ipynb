{
 "cells": [
  {
   "cell_type": "markdown",
   "id": "ad459a53",
   "metadata": {},
   "source": [
    "<h1>Present Value</h1> \n",
    "\n",
    "Here is the an example of using Python to get the present value of an investment. We ask the user for the info and then do the math, based on the known formula. \n",
    "\n",
    "\n",
    "PV = FV / (1 + <em>r</em>)<sup><em>n</em></sup>\n",
    "\n",
    " \n",
    "where:\n",
    "FV = Future value\n",
    "PV = Present value (original amount of money)\n",
    "<em>r</em> = Interest rate per period\n",
    "<em>n</em> = Number of periods (Years in our case)\n"
   ]
  },
  {
   "cell_type": "code",
   "execution_count": 8,
   "id": "906873e1",
   "metadata": {},
   "outputs": [
    {
     "name": "stdout",
     "output_type": "stream",
     "text": [
      "Enter the desired future value: 18000\n",
      "Now the interest rate: 0.04\n",
      "Finally, the number of the duration, in years: 4\n",
      "You would need to invest  15386.48  for your goal value.\n"
     ]
    }
   ],
   "source": [
    "#The first section should give the user the opportunity to put in the future value, \n",
    "#the interest rate, and the time - he should get out the present value. \n",
    "\n",
    "#That is, he should be able to use it to see how much he would need to invest to attain some goal. \n",
    "#Make sure to format all the Markdown language properly with explanation.\n",
    "\n",
    "future_val = float(input(\"Enter the desired future value: \"))\n",
    "interest_rate = float(input(\"Now the interest rate: \"))\n",
    "time = int(input(\"Finally, the number of the duration, in years: \"))\n",
    "\n",
    "present_val = round((future_val / (1.0 + interest_rate)**time), 2)\n",
    "\n",
    "print(\"You would need to invest \", present_val, \" for your goal value.\")\n"
   ]
  },
  {
   "cell_type": "markdown",
   "id": "d178c549",
   "metadata": {},
   "source": [
    "The second section should show the user that if he invests some specified amount, how much it will grow to. \n",
    "Make sure to be very clear at explaining how to present this with the proper directions in the Markdown language.\n",
    "\n",
    "<h1>Future Value</h1> \n",
    "\n",
    "Here is the an example of using Python to get the future value of an investment. We ask the user for the info and then do the math, based on the known formula. \n",
    "  \n",
    "FV = PV × (1 + <em>r</em>)<sup><em>n</em></sup>\n",
    " \n",
    "where:\n",
    "FV = Future value\n",
    "PV = Present value (original amount of money)\n",
    "<em>r</em> = Interest rate per period\n",
    "<em>n</em> = Number of periods (Years in our case)\n"
   ]
  },
  {
   "cell_type": "code",
   "execution_count": 9,
   "id": "93efe499",
   "metadata": {},
   "outputs": [
    {
     "name": "stdout",
     "output_type": "stream",
     "text": [
      "Enter how much you want to invest: 100\n",
      "Now the interest rate: 0.04\n",
      "Finally, the number of the duration, in years: 2\n",
      "You will have  108.16  if you invest  100.0  for  2  years.\n"
     ]
    }
   ],
   "source": [
    "present_val = float(input(\"Enter how much you want to invest: \"))\n",
    "interest_rate = float(input(\"Now the interest rate: \"))\n",
    "time = int(input(\"Finally, the number of the duration, in years: \"))\n",
    "\n",
    "future_val = round((present_val * (1.0 + interest_rate)**time), 2)\n",
    "\n",
    "print(\"You will have \", future_val, \" if you invest \", present_val, \" for \", time, \" years.\")"
   ]
  }
 ],
 "metadata": {
  "kernelspec": {
   "display_name": "Python 3 (ipykernel)",
   "language": "python",
   "name": "python3"
  },
  "language_info": {
   "codemirror_mode": {
    "name": "ipython",
    "version": 3
   },
   "file_extension": ".py",
   "mimetype": "text/x-python",
   "name": "python",
   "nbconvert_exporter": "python",
   "pygments_lexer": "ipython3",
   "version": "3.8.8"
  }
 },
 "nbformat": 4,
 "nbformat_minor": 5
}
